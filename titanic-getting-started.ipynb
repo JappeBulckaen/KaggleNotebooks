{
 "cells": [
  {
   "cell_type": "code",
   "execution_count": 1,
   "id": "32f92578",
   "metadata": {
    "_cell_guid": "b1076dfc-b9ad-4769-8c92-a6c4dae69d19",
    "_uuid": "8f2839f25d086af736a60e9eeb907d3b93b6e0e5",
    "execution": {
     "iopub.execute_input": "2024-12-30T16:30:27.763531Z",
     "iopub.status.busy": "2024-12-30T16:30:27.762233Z",
     "iopub.status.idle": "2024-12-30T16:30:29.521833Z",
     "shell.execute_reply": "2024-12-30T16:30:29.520525Z"
    },
    "papermill": {
     "duration": 1.770588,
     "end_time": "2024-12-30T16:30:29.524779",
     "exception": false,
     "start_time": "2024-12-30T16:30:27.754191",
     "status": "completed"
    },
    "tags": []
   },
   "outputs": [
    {
     "name": "stdout",
     "output_type": "stream",
     "text": [
      "/kaggle/input/titanic/train.csv\n",
      "/kaggle/input/titanic/test.csv\n",
      "/kaggle/input/titanic/gender_submission.csv\n"
     ]
    }
   ],
   "source": [
    "# This Python 3 environment comes with many helpful analytics libraries installed\n",
    "# It is defined by the kaggle/python Docker image: https://github.com/kaggle/docker-python\n",
    "# For example, here's several helpful packages to load\n",
    "\n",
    "import numpy as np # linear algebra\n",
    "import pandas as pd # data processing, CSV file I/O (e.g. pd.read_csv)\n",
    "import seaborn as sns\n",
    "import matplotlib as plt\n",
    "from sklearn.ensemble import RandomForestClassifier\n",
    "from sklearn.ensemble import HistGradientBoostingClassifier\n",
    "from sklearn.metrics import confusion_matrix, ConfusionMatrixDisplay\n",
    "\n",
    "\n",
    "# Input data files are available in the read-only \"../input/\" directory\n",
    "# For example, running this (by clicking run or pressing Shift+Enter) will list all files under the input directory\n",
    "\n",
    "import os\n",
    "for dirname, _, filenames in os.walk('/kaggle/input'):\n",
    "    for filename in filenames:\n",
    "        print(os.path.join(dirname, filename))\n",
    "\n",
    "# You can write up to 20GB to the current directory (/kaggle/working/) that gets preserved as output when you create a version using \"Save & Run All\" \n",
    "# You can also write temporary files to /kaggle/temp/, but they won't be saved outside of the current session"
   ]
  },
  {
   "cell_type": "markdown",
   "id": "a6f90b5c",
   "metadata": {
    "papermill": {
     "duration": 0.004479,
     "end_time": "2024-12-30T16:30:29.534375",
     "exception": false,
     "start_time": "2024-12-30T16:30:29.529896",
     "status": "completed"
    },
    "tags": []
   },
   "source": [
    "# Data Loading\n",
    "We get the train and test data"
   ]
  },
  {
   "cell_type": "code",
   "execution_count": 2,
   "id": "83e9e5b1",
   "metadata": {
    "execution": {
     "iopub.execute_input": "2024-12-30T16:30:29.545959Z",
     "iopub.status.busy": "2024-12-30T16:30:29.544868Z",
     "iopub.status.idle": "2024-12-30T16:30:29.596741Z",
     "shell.execute_reply": "2024-12-30T16:30:29.595374Z"
    },
    "papermill": {
     "duration": 0.060247,
     "end_time": "2024-12-30T16:30:29.599255",
     "exception": false,
     "start_time": "2024-12-30T16:30:29.539008",
     "status": "completed"
    },
    "tags": []
   },
   "outputs": [
    {
     "data": {
      "text/html": [
       "<div>\n",
       "<style scoped>\n",
       "    .dataframe tbody tr th:only-of-type {\n",
       "        vertical-align: middle;\n",
       "    }\n",
       "\n",
       "    .dataframe tbody tr th {\n",
       "        vertical-align: top;\n",
       "    }\n",
       "\n",
       "    .dataframe thead th {\n",
       "        text-align: right;\n",
       "    }\n",
       "</style>\n",
       "<table border=\"1\" class=\"dataframe\">\n",
       "  <thead>\n",
       "    <tr style=\"text-align: right;\">\n",
       "      <th></th>\n",
       "      <th>PassengerId</th>\n",
       "      <th>Survived</th>\n",
       "      <th>Pclass</th>\n",
       "      <th>Name</th>\n",
       "      <th>Sex</th>\n",
       "      <th>Age</th>\n",
       "      <th>SibSp</th>\n",
       "      <th>Parch</th>\n",
       "      <th>Ticket</th>\n",
       "      <th>Fare</th>\n",
       "      <th>Cabin</th>\n",
       "      <th>Embarked</th>\n",
       "    </tr>\n",
       "  </thead>\n",
       "  <tbody>\n",
       "    <tr>\n",
       "      <th>0</th>\n",
       "      <td>1</td>\n",
       "      <td>0</td>\n",
       "      <td>3</td>\n",
       "      <td>Braund, Mr. Owen Harris</td>\n",
       "      <td>male</td>\n",
       "      <td>22.0</td>\n",
       "      <td>1</td>\n",
       "      <td>0</td>\n",
       "      <td>A/5 21171</td>\n",
       "      <td>7.2500</td>\n",
       "      <td>NaN</td>\n",
       "      <td>S</td>\n",
       "    </tr>\n",
       "    <tr>\n",
       "      <th>1</th>\n",
       "      <td>2</td>\n",
       "      <td>1</td>\n",
       "      <td>1</td>\n",
       "      <td>Cumings, Mrs. John Bradley (Florence Briggs Th...</td>\n",
       "      <td>female</td>\n",
       "      <td>38.0</td>\n",
       "      <td>1</td>\n",
       "      <td>0</td>\n",
       "      <td>PC 17599</td>\n",
       "      <td>71.2833</td>\n",
       "      <td>C85</td>\n",
       "      <td>C</td>\n",
       "    </tr>\n",
       "    <tr>\n",
       "      <th>2</th>\n",
       "      <td>3</td>\n",
       "      <td>1</td>\n",
       "      <td>3</td>\n",
       "      <td>Heikkinen, Miss. Laina</td>\n",
       "      <td>female</td>\n",
       "      <td>26.0</td>\n",
       "      <td>0</td>\n",
       "      <td>0</td>\n",
       "      <td>STON/O2. 3101282</td>\n",
       "      <td>7.9250</td>\n",
       "      <td>NaN</td>\n",
       "      <td>S</td>\n",
       "    </tr>\n",
       "    <tr>\n",
       "      <th>3</th>\n",
       "      <td>4</td>\n",
       "      <td>1</td>\n",
       "      <td>1</td>\n",
       "      <td>Futrelle, Mrs. Jacques Heath (Lily May Peel)</td>\n",
       "      <td>female</td>\n",
       "      <td>35.0</td>\n",
       "      <td>1</td>\n",
       "      <td>0</td>\n",
       "      <td>113803</td>\n",
       "      <td>53.1000</td>\n",
       "      <td>C123</td>\n",
       "      <td>S</td>\n",
       "    </tr>\n",
       "    <tr>\n",
       "      <th>4</th>\n",
       "      <td>5</td>\n",
       "      <td>0</td>\n",
       "      <td>3</td>\n",
       "      <td>Allen, Mr. William Henry</td>\n",
       "      <td>male</td>\n",
       "      <td>35.0</td>\n",
       "      <td>0</td>\n",
       "      <td>0</td>\n",
       "      <td>373450</td>\n",
       "      <td>8.0500</td>\n",
       "      <td>NaN</td>\n",
       "      <td>S</td>\n",
       "    </tr>\n",
       "  </tbody>\n",
       "</table>\n",
       "</div>"
      ],
      "text/plain": [
       "   PassengerId  Survived  Pclass  \\\n",
       "0            1         0       3   \n",
       "1            2         1       1   \n",
       "2            3         1       3   \n",
       "3            4         1       1   \n",
       "4            5         0       3   \n",
       "\n",
       "                                                Name     Sex   Age  SibSp  \\\n",
       "0                            Braund, Mr. Owen Harris    male  22.0      1   \n",
       "1  Cumings, Mrs. John Bradley (Florence Briggs Th...  female  38.0      1   \n",
       "2                             Heikkinen, Miss. Laina  female  26.0      0   \n",
       "3       Futrelle, Mrs. Jacques Heath (Lily May Peel)  female  35.0      1   \n",
       "4                           Allen, Mr. William Henry    male  35.0      0   \n",
       "\n",
       "   Parch            Ticket     Fare Cabin Embarked  \n",
       "0      0         A/5 21171   7.2500   NaN        S  \n",
       "1      0          PC 17599  71.2833   C85        C  \n",
       "2      0  STON/O2. 3101282   7.9250   NaN        S  \n",
       "3      0            113803  53.1000  C123        S  \n",
       "4      0            373450   8.0500   NaN        S  "
      ]
     },
     "execution_count": 2,
     "metadata": {},
     "output_type": "execute_result"
    }
   ],
   "source": [
    "train_data = pd.read_csv(\"/kaggle/input/titanic/train.csv\")\n",
    "train_data.head()"
   ]
  },
  {
   "cell_type": "code",
   "execution_count": 3,
   "id": "e8a3cb24",
   "metadata": {
    "execution": {
     "iopub.execute_input": "2024-12-30T16:30:29.612098Z",
     "iopub.status.busy": "2024-12-30T16:30:29.611207Z",
     "iopub.status.idle": "2024-12-30T16:30:29.633581Z",
     "shell.execute_reply": "2024-12-30T16:30:29.632369Z"
    },
    "papermill": {
     "duration": 0.031455,
     "end_time": "2024-12-30T16:30:29.636058",
     "exception": false,
     "start_time": "2024-12-30T16:30:29.604603",
     "status": "completed"
    },
    "tags": []
   },
   "outputs": [
    {
     "data": {
      "text/html": [
       "<div>\n",
       "<style scoped>\n",
       "    .dataframe tbody tr th:only-of-type {\n",
       "        vertical-align: middle;\n",
       "    }\n",
       "\n",
       "    .dataframe tbody tr th {\n",
       "        vertical-align: top;\n",
       "    }\n",
       "\n",
       "    .dataframe thead th {\n",
       "        text-align: right;\n",
       "    }\n",
       "</style>\n",
       "<table border=\"1\" class=\"dataframe\">\n",
       "  <thead>\n",
       "    <tr style=\"text-align: right;\">\n",
       "      <th></th>\n",
       "      <th>PassengerId</th>\n",
       "      <th>Pclass</th>\n",
       "      <th>Name</th>\n",
       "      <th>Sex</th>\n",
       "      <th>Age</th>\n",
       "      <th>SibSp</th>\n",
       "      <th>Parch</th>\n",
       "      <th>Ticket</th>\n",
       "      <th>Fare</th>\n",
       "      <th>Cabin</th>\n",
       "      <th>Embarked</th>\n",
       "    </tr>\n",
       "  </thead>\n",
       "  <tbody>\n",
       "    <tr>\n",
       "      <th>0</th>\n",
       "      <td>892</td>\n",
       "      <td>3</td>\n",
       "      <td>Kelly, Mr. James</td>\n",
       "      <td>male</td>\n",
       "      <td>34.5</td>\n",
       "      <td>0</td>\n",
       "      <td>0</td>\n",
       "      <td>330911</td>\n",
       "      <td>7.8292</td>\n",
       "      <td>NaN</td>\n",
       "      <td>Q</td>\n",
       "    </tr>\n",
       "    <tr>\n",
       "      <th>1</th>\n",
       "      <td>893</td>\n",
       "      <td>3</td>\n",
       "      <td>Wilkes, Mrs. James (Ellen Needs)</td>\n",
       "      <td>female</td>\n",
       "      <td>47.0</td>\n",
       "      <td>1</td>\n",
       "      <td>0</td>\n",
       "      <td>363272</td>\n",
       "      <td>7.0000</td>\n",
       "      <td>NaN</td>\n",
       "      <td>S</td>\n",
       "    </tr>\n",
       "    <tr>\n",
       "      <th>2</th>\n",
       "      <td>894</td>\n",
       "      <td>2</td>\n",
       "      <td>Myles, Mr. Thomas Francis</td>\n",
       "      <td>male</td>\n",
       "      <td>62.0</td>\n",
       "      <td>0</td>\n",
       "      <td>0</td>\n",
       "      <td>240276</td>\n",
       "      <td>9.6875</td>\n",
       "      <td>NaN</td>\n",
       "      <td>Q</td>\n",
       "    </tr>\n",
       "    <tr>\n",
       "      <th>3</th>\n",
       "      <td>895</td>\n",
       "      <td>3</td>\n",
       "      <td>Wirz, Mr. Albert</td>\n",
       "      <td>male</td>\n",
       "      <td>27.0</td>\n",
       "      <td>0</td>\n",
       "      <td>0</td>\n",
       "      <td>315154</td>\n",
       "      <td>8.6625</td>\n",
       "      <td>NaN</td>\n",
       "      <td>S</td>\n",
       "    </tr>\n",
       "    <tr>\n",
       "      <th>4</th>\n",
       "      <td>896</td>\n",
       "      <td>3</td>\n",
       "      <td>Hirvonen, Mrs. Alexander (Helga E Lindqvist)</td>\n",
       "      <td>female</td>\n",
       "      <td>22.0</td>\n",
       "      <td>1</td>\n",
       "      <td>1</td>\n",
       "      <td>3101298</td>\n",
       "      <td>12.2875</td>\n",
       "      <td>NaN</td>\n",
       "      <td>S</td>\n",
       "    </tr>\n",
       "  </tbody>\n",
       "</table>\n",
       "</div>"
      ],
      "text/plain": [
       "   PassengerId  Pclass                                          Name     Sex  \\\n",
       "0          892       3                              Kelly, Mr. James    male   \n",
       "1          893       3              Wilkes, Mrs. James (Ellen Needs)  female   \n",
       "2          894       2                     Myles, Mr. Thomas Francis    male   \n",
       "3          895       3                              Wirz, Mr. Albert    male   \n",
       "4          896       3  Hirvonen, Mrs. Alexander (Helga E Lindqvist)  female   \n",
       "\n",
       "    Age  SibSp  Parch   Ticket     Fare Cabin Embarked  \n",
       "0  34.5      0      0   330911   7.8292   NaN        Q  \n",
       "1  47.0      1      0   363272   7.0000   NaN        S  \n",
       "2  62.0      0      0   240276   9.6875   NaN        Q  \n",
       "3  27.0      0      0   315154   8.6625   NaN        S  \n",
       "4  22.0      1      1  3101298  12.2875   NaN        S  "
      ]
     },
     "execution_count": 3,
     "metadata": {},
     "output_type": "execute_result"
    }
   ],
   "source": [
    "test_data = pd.read_csv(\"/kaggle/input/titanic/test.csv\")\n",
    "test_data.head()"
   ]
  },
  {
   "cell_type": "markdown",
   "id": "16890dd9",
   "metadata": {
    "papermill": {
     "duration": 0.004968,
     "end_time": "2024-12-30T16:30:29.646321",
     "exception": false,
     "start_time": "2024-12-30T16:30:29.641353",
     "status": "completed"
    },
    "tags": []
   },
   "source": [
    "# Explorative Data Analysis:\n",
    "let's see if any data is missing and what data we're working with:"
   ]
  },
  {
   "cell_type": "code",
   "execution_count": 4,
   "id": "aef98446",
   "metadata": {
    "execution": {
     "iopub.execute_input": "2024-12-30T16:30:29.658382Z",
     "iopub.status.busy": "2024-12-30T16:30:29.657990Z",
     "iopub.status.idle": "2024-12-30T16:30:29.708722Z",
     "shell.execute_reply": "2024-12-30T16:30:29.707372Z"
    },
    "papermill": {
     "duration": 0.059531,
     "end_time": "2024-12-30T16:30:29.710976",
     "exception": false,
     "start_time": "2024-12-30T16:30:29.651445",
     "status": "completed"
    },
    "tags": []
   },
   "outputs": [
    {
     "name": "stdout",
     "output_type": "stream",
     "text": [
      "<class 'pandas.core.frame.DataFrame'>\n",
      "RangeIndex: 891 entries, 0 to 890\n",
      "Data columns (total 12 columns):\n",
      " #   Column       Non-Null Count  Dtype  \n",
      "---  ------       --------------  -----  \n",
      " 0   PassengerId  891 non-null    int64  \n",
      " 1   Survived     891 non-null    int64  \n",
      " 2   Pclass       891 non-null    int64  \n",
      " 3   Name         891 non-null    object \n",
      " 4   Sex          891 non-null    object \n",
      " 5   Age          714 non-null    float64\n",
      " 6   SibSp        891 non-null    int64  \n",
      " 7   Parch        891 non-null    int64  \n",
      " 8   Ticket       891 non-null    object \n",
      " 9   Fare         891 non-null    float64\n",
      " 10  Cabin        204 non-null    object \n",
      " 11  Embarked     889 non-null    object \n",
      "dtypes: float64(2), int64(5), object(5)\n",
      "memory usage: 83.7+ KB\n"
     ]
    },
    {
     "data": {
      "text/html": [
       "<div>\n",
       "<style scoped>\n",
       "    .dataframe tbody tr th:only-of-type {\n",
       "        vertical-align: middle;\n",
       "    }\n",
       "\n",
       "    .dataframe tbody tr th {\n",
       "        vertical-align: top;\n",
       "    }\n",
       "\n",
       "    .dataframe thead th {\n",
       "        text-align: right;\n",
       "    }\n",
       "</style>\n",
       "<table border=\"1\" class=\"dataframe\">\n",
       "  <thead>\n",
       "    <tr style=\"text-align: right;\">\n",
       "      <th></th>\n",
       "      <th>PassengerId</th>\n",
       "      <th>Survived</th>\n",
       "      <th>Pclass</th>\n",
       "      <th>Age</th>\n",
       "      <th>SibSp</th>\n",
       "      <th>Parch</th>\n",
       "      <th>Fare</th>\n",
       "    </tr>\n",
       "  </thead>\n",
       "  <tbody>\n",
       "    <tr>\n",
       "      <th>count</th>\n",
       "      <td>891.000000</td>\n",
       "      <td>891.000000</td>\n",
       "      <td>891.000000</td>\n",
       "      <td>714.000000</td>\n",
       "      <td>891.000000</td>\n",
       "      <td>891.000000</td>\n",
       "      <td>891.000000</td>\n",
       "    </tr>\n",
       "    <tr>\n",
       "      <th>mean</th>\n",
       "      <td>446.000000</td>\n",
       "      <td>0.383838</td>\n",
       "      <td>2.308642</td>\n",
       "      <td>29.699118</td>\n",
       "      <td>0.523008</td>\n",
       "      <td>0.381594</td>\n",
       "      <td>32.204208</td>\n",
       "    </tr>\n",
       "    <tr>\n",
       "      <th>std</th>\n",
       "      <td>257.353842</td>\n",
       "      <td>0.486592</td>\n",
       "      <td>0.836071</td>\n",
       "      <td>14.526497</td>\n",
       "      <td>1.102743</td>\n",
       "      <td>0.806057</td>\n",
       "      <td>49.693429</td>\n",
       "    </tr>\n",
       "    <tr>\n",
       "      <th>min</th>\n",
       "      <td>1.000000</td>\n",
       "      <td>0.000000</td>\n",
       "      <td>1.000000</td>\n",
       "      <td>0.420000</td>\n",
       "      <td>0.000000</td>\n",
       "      <td>0.000000</td>\n",
       "      <td>0.000000</td>\n",
       "    </tr>\n",
       "    <tr>\n",
       "      <th>25%</th>\n",
       "      <td>223.500000</td>\n",
       "      <td>0.000000</td>\n",
       "      <td>2.000000</td>\n",
       "      <td>20.125000</td>\n",
       "      <td>0.000000</td>\n",
       "      <td>0.000000</td>\n",
       "      <td>7.910400</td>\n",
       "    </tr>\n",
       "    <tr>\n",
       "      <th>50%</th>\n",
       "      <td>446.000000</td>\n",
       "      <td>0.000000</td>\n",
       "      <td>3.000000</td>\n",
       "      <td>28.000000</td>\n",
       "      <td>0.000000</td>\n",
       "      <td>0.000000</td>\n",
       "      <td>14.454200</td>\n",
       "    </tr>\n",
       "    <tr>\n",
       "      <th>75%</th>\n",
       "      <td>668.500000</td>\n",
       "      <td>1.000000</td>\n",
       "      <td>3.000000</td>\n",
       "      <td>38.000000</td>\n",
       "      <td>1.000000</td>\n",
       "      <td>0.000000</td>\n",
       "      <td>31.000000</td>\n",
       "    </tr>\n",
       "    <tr>\n",
       "      <th>max</th>\n",
       "      <td>891.000000</td>\n",
       "      <td>1.000000</td>\n",
       "      <td>3.000000</td>\n",
       "      <td>80.000000</td>\n",
       "      <td>8.000000</td>\n",
       "      <td>6.000000</td>\n",
       "      <td>512.329200</td>\n",
       "    </tr>\n",
       "  </tbody>\n",
       "</table>\n",
       "</div>"
      ],
      "text/plain": [
       "       PassengerId    Survived      Pclass         Age       SibSp  \\\n",
       "count   891.000000  891.000000  891.000000  714.000000  891.000000   \n",
       "mean    446.000000    0.383838    2.308642   29.699118    0.523008   \n",
       "std     257.353842    0.486592    0.836071   14.526497    1.102743   \n",
       "min       1.000000    0.000000    1.000000    0.420000    0.000000   \n",
       "25%     223.500000    0.000000    2.000000   20.125000    0.000000   \n",
       "50%     446.000000    0.000000    3.000000   28.000000    0.000000   \n",
       "75%     668.500000    1.000000    3.000000   38.000000    1.000000   \n",
       "max     891.000000    1.000000    3.000000   80.000000    8.000000   \n",
       "\n",
       "            Parch        Fare  \n",
       "count  891.000000  891.000000  \n",
       "mean     0.381594   32.204208  \n",
       "std      0.806057   49.693429  \n",
       "min      0.000000    0.000000  \n",
       "25%      0.000000    7.910400  \n",
       "50%      0.000000   14.454200  \n",
       "75%      0.000000   31.000000  \n",
       "max      6.000000  512.329200  "
      ]
     },
     "execution_count": 4,
     "metadata": {},
     "output_type": "execute_result"
    }
   ],
   "source": [
    "train_data.info()\n",
    "\n",
    "train_data.describe()"
   ]
  },
  {
   "cell_type": "markdown",
   "id": "759f5b1e",
   "metadata": {
    "papermill": {
     "duration": 0.005255,
     "end_time": "2024-12-30T16:30:29.721830",
     "exception": false,
     "start_time": "2024-12-30T16:30:29.716575",
     "status": "completed"
    },
    "tags": []
   },
   "source": [
    "It seems some ages are missing, as well as a lot of cabin ID's."
   ]
  },
  {
   "cell_type": "code",
   "execution_count": 5,
   "id": "5b7f5118",
   "metadata": {
    "execution": {
     "iopub.execute_input": "2024-12-30T16:30:29.735223Z",
     "iopub.status.busy": "2024-12-30T16:30:29.734158Z",
     "iopub.status.idle": "2024-12-30T16:30:30.139799Z",
     "shell.execute_reply": "2024-12-30T16:30:30.138354Z"
    },
    "papermill": {
     "duration": 0.415456,
     "end_time": "2024-12-30T16:30:30.142656",
     "exception": false,
     "start_time": "2024-12-30T16:30:29.727200",
     "status": "completed"
    },
    "tags": []
   },
   "outputs": [
    {
     "name": "stdout",
     "output_type": "stream",
     "text": [
      "---- \n",
      " Describe before: \n",
      "----\n",
      "count    714.000000\n",
      "mean      29.699118\n",
      "std       14.526497\n",
      "min        0.420000\n",
      "25%       20.125000\n",
      "50%       28.000000\n",
      "75%       38.000000\n",
      "max       80.000000\n",
      "Name: Age_Lin, dtype: float64\n",
      "---- \n",
      " Train set updated! \n",
      "----\n",
      "---- \n",
      " Describe After: \n",
      "----\n",
      "count    891.000000\n",
      "mean      29.726061\n",
      "std       13.902353\n",
      "min        0.420000\n",
      "25%       21.000000\n",
      "50%       28.500000\n",
      "75%       38.000000\n",
      "max       80.000000\n",
      "Name: Age_Lin, dtype: float64\n",
      "---- \n",
      " Test set updated! \n",
      "----\n"
     ]
    },
    {
     "data": {
      "image/png": "[encoded data removed]",
      "text/plain": [
       "<Figure size 640x480 with 1 Axes>"
      ]
     },
     "metadata": {},
     "output_type": "display_data"
    }
   ],
   "source": [
    "#fill age with mean, so we don't throw away usefull info\n",
    "print(\"---- \\n Describe before: \\n----\")\n",
    "train_data[\"Age_Lin\"] = train_data[\"Age\"]\n",
    "#train_data[\"Age_Quad\"] = train_data[\"Age\"]\n",
    "print(train_data[\"Age_Lin\"].describe())\n",
    "train_data[\"Age_Lin\"].interpolate(method ='linear', limit_direction ='forward', inplace=True)\n",
    "#train_data[\"Age_Quad\"].interpolate(method='quadratic', limit_direction='both', inplace=True)\n",
    "print(\"---- \\n Train set updated! \\n----\")\n",
    "print(\"---- \\n Describe After: \\n----\")\n",
    "print(train_data[\"Age_Lin\"].describe())\n",
    "#print(train_data[\"Age_Quad\"].describe())\n",
    "sns.histplot(train_data, x=\"Age_Lin\", hue=\"Survived\")\n",
    "#sns.histplot(train_data, x=\"Age_Quad\", hue=\"Survived\")\n",
    "\n",
    "\n",
    "#also replace in test set!\n",
    "\n",
    "test_data[\"Age_Lin\"] = test_data[\"Age\"]\n",
    "test_data[\"Age_Lin\"].interpolate(method ='linear', limit_direction ='forward', inplace=True)\n",
    "#test_data[\"Age_Quad\"] = test_data[\"Age\"]\n",
    "#test_data[\"Age_Quad\"].interpolate(method='quadratic', limit_direction='both', inplace=True)\n",
    "print(\"---- \\n Test set updated! \\n----\")"
   ]
  },
  {
   "cell_type": "markdown",
   "id": "5b35d4d4",
   "metadata": {
    "papermill": {
     "duration": 0.005729,
     "end_time": "2024-12-30T16:30:30.154502",
     "exception": false,
     "start_time": "2024-12-30T16:30:30.148773",
     "status": "completed"
    },
    "tags": []
   },
   "source": [
    "First guess: women survived more often, so we make 2 new vectors: one for men and women, calculating the rate of men/women who survived the tragedy."
   ]
  },
  {
   "cell_type": "code",
   "execution_count": 6,
   "id": "d21d8ed5",
   "metadata": {
    "execution": {
     "iopub.execute_input": "2024-12-30T16:30:30.169502Z",
     "iopub.status.busy": "2024-12-30T16:30:30.168410Z",
     "iopub.status.idle": "2024-12-30T16:30:30.177392Z",
     "shell.execute_reply": "2024-12-30T16:30:30.175908Z"
    },
    "papermill": {
     "duration": 0.019379,
     "end_time": "2024-12-30T16:30:30.180020",
     "exception": false,
     "start_time": "2024-12-30T16:30:30.160641",
     "status": "completed"
    },
    "tags": []
   },
   "outputs": [
    {
     "name": "stdout",
     "output_type": "stream",
     "text": [
      "% of women who survived:  0.7420382165605095\n"
     ]
    }
   ],
   "source": [
    "women = train_data.loc[train_data.Sex == 'female'][\"Survived\"]\n",
    "rate_women = sum(women)/len(women)\n",
    "\n",
    "print(\"% of women who survived: \", rate_women)"
   ]
  },
  {
   "cell_type": "code",
   "execution_count": 7,
   "id": "7eb33b7f",
   "metadata": {
    "execution": {
     "iopub.execute_input": "2024-12-30T16:30:30.195386Z",
     "iopub.status.busy": "2024-12-30T16:30:30.194106Z",
     "iopub.status.idle": "2024-12-30T16:30:30.202307Z",
     "shell.execute_reply": "2024-12-30T16:30:30.201187Z"
    },
    "papermill": {
     "duration": 0.018507,
     "end_time": "2024-12-30T16:30:30.204779",
     "exception": false,
     "start_time": "2024-12-30T16:30:30.186272",
     "status": "completed"
    },
    "tags": []
   },
   "outputs": [
    {
     "name": "stdout",
     "output_type": "stream",
     "text": [
      "% of men who survived:  0.18890814558058924\n"
     ]
    }
   ],
   "source": [
    "men = train_data.loc[train_data.Sex == 'male'][\"Survived\"]\n",
    "rate_men = sum(men)/len(men)\n",
    "\n",
    "print(\"% of men who survived: \", rate_men)"
   ]
  },
  {
   "cell_type": "code",
   "execution_count": 8,
   "id": "b8d229ee",
   "metadata": {
    "execution": {
     "iopub.execute_input": "2024-12-30T16:30:30.219205Z",
     "iopub.status.busy": "2024-12-30T16:30:30.218787Z",
     "iopub.status.idle": "2024-12-30T16:30:30.412064Z",
     "shell.execute_reply": "2024-12-30T16:30:30.410874Z"
    },
    "papermill": {
     "duration": 0.203575,
     "end_time": "2024-12-30T16:30:30.414624",
     "exception": false,
     "start_time": "2024-12-30T16:30:30.211049",
     "status": "completed"
    },
    "tags": []
   },
   "outputs": [
    {
     "data": {
      "text/plain": [
       "<AxesSubplot:xlabel='Sex', ylabel='count'>"
      ]
     },
     "execution_count": 8,
     "metadata": {},
     "output_type": "execute_result"
    },
    {
     "data": {
      "image/png": "[encoded data removed]",
      "text/plain": [
       "<Figure size 640x480 with 1 Axes>"
      ]
     },
     "metadata": {},
     "output_type": "display_data"
    }
   ],
   "source": [
    "sns.countplot(data=train_data, x=\"Sex\", hue=\"Survived\")"
   ]
  },
  {
   "cell_type": "markdown",
   "id": "c8ac460d",
   "metadata": {
    "papermill": {
     "duration": 0.006025,
     "end_time": "2024-12-30T16:30:30.427020",
     "exception": false,
     "start_time": "2024-12-30T16:30:30.420995",
     "status": "completed"
    },
    "tags": []
   },
   "source": [
    "As seen above, 75% of women on board survived, while only 19% of men got rescued. This means that gender is a very strong indicator of survival!\n",
    "\n",
    "## Further EDA"
   ]
  },
  {
   "cell_type": "code",
   "execution_count": 9,
   "id": "a912f900",
   "metadata": {
    "execution": {
     "iopub.execute_input": "2024-12-30T16:30:30.441340Z",
     "iopub.status.busy": "2024-12-30T16:30:30.440915Z",
     "iopub.status.idle": "2024-12-30T16:30:30.658225Z",
     "shell.execute_reply": "2024-12-30T16:30:30.656993Z"
    },
    "papermill": {
     "duration": 0.227451,
     "end_time": "2024-12-30T16:30:30.660711",
     "exception": false,
     "start_time": "2024-12-30T16:30:30.433260",
     "status": "completed"
    },
    "tags": []
   },
   "outputs": [
    {
     "data": {
      "text/plain": [
       "<AxesSubplot:xlabel='Pclass', ylabel='count'>"
      ]
     },
     "execution_count": 9,
     "metadata": {},
     "output_type": "execute_result"
    },
    {
     "data": {
      "image/png": "[encoded data removed]",
      "text/plain": [
       "<Figure size 640x480 with 1 Axes>"
      ]
     },
     "metadata": {},
     "output_type": "display_data"
    }
   ],
   "source": [
    "#Plotting unique values:\n",
    "sns.countplot(data=train_data, x=\"Pclass\", hue=\"Survived\")"
   ]
  },
  {
   "cell_type": "code",
   "execution_count": 10,
   "id": "550e47e7",
   "metadata": {
    "execution": {
     "iopub.execute_input": "2024-12-30T16:30:30.675866Z",
     "iopub.status.busy": "2024-12-30T16:30:30.675472Z",
     "iopub.status.idle": "2024-12-30T16:30:30.922829Z",
     "shell.execute_reply": "2024-12-30T16:30:30.921605Z"
    },
    "papermill": {
     "duration": 0.257895,
     "end_time": "2024-12-30T16:30:30.925409",
     "exception": false,
     "start_time": "2024-12-30T16:30:30.667514",
     "status": "completed"
    },
    "tags": []
   },
   "outputs": [
    {
     "data": {
      "text/html": [
       "<div>\n",
       "<style scoped>\n",
       "    .dataframe tbody tr th:only-of-type {\n",
       "        vertical-align: middle;\n",
       "    }\n",
       "\n",
       "    .dataframe tbody tr th {\n",
       "        vertical-align: top;\n",
       "    }\n",
       "\n",
       "    .dataframe thead th {\n",
       "        text-align: right;\n",
       "    }\n",
       "</style>\n",
       "<table border=\"1\" class=\"dataframe\">\n",
       "  <thead>\n",
       "    <tr style=\"text-align: right;\">\n",
       "      <th></th>\n",
       "      <th>Survived</th>\n",
       "      <th>Pclass</th>\n",
       "      <th>Age</th>\n",
       "      <th>SibSp</th>\n",
       "      <th>Parch</th>\n",
       "      <th>Fare</th>\n",
       "    </tr>\n",
       "  </thead>\n",
       "  <tbody>\n",
       "    <tr>\n",
       "      <th>Survived</th>\n",
       "      <td>1.000000</td>\n",
       "      <td>-0.338481</td>\n",
       "      <td>-0.077221</td>\n",
       "      <td>-0.035322</td>\n",
       "      <td>0.081629</td>\n",
       "      <td>0.257307</td>\n",
       "    </tr>\n",
       "    <tr>\n",
       "      <th>Pclass</th>\n",
       "      <td>-0.338481</td>\n",
       "      <td>1.000000</td>\n",
       "      <td>-0.369226</td>\n",
       "      <td>0.083081</td>\n",
       "      <td>0.018443</td>\n",
       "      <td>-0.549500</td>\n",
       "    </tr>\n",
       "    <tr>\n",
       "      <th>Age</th>\n",
       "      <td>-0.077221</td>\n",
       "      <td>-0.369226</td>\n",
       "      <td>1.000000</td>\n",
       "      <td>-0.308247</td>\n",
       "      <td>-0.189119</td>\n",
       "      <td>0.096067</td>\n",
       "    </tr>\n",
       "    <tr>\n",
       "      <th>SibSp</th>\n",
       "      <td>-0.035322</td>\n",
       "      <td>0.083081</td>\n",
       "      <td>-0.308247</td>\n",
       "      <td>1.000000</td>\n",
       "      <td>0.414838</td>\n",
       "      <td>0.159651</td>\n",
       "    </tr>\n",
       "    <tr>\n",
       "      <th>Parch</th>\n",
       "      <td>0.081629</td>\n",
       "      <td>0.018443</td>\n",
       "      <td>-0.189119</td>\n",
       "      <td>0.414838</td>\n",
       "      <td>1.000000</td>\n",
       "      <td>0.216225</td>\n",
       "    </tr>\n",
       "    <tr>\n",
       "      <th>Fare</th>\n",
       "      <td>0.257307</td>\n",
       "      <td>-0.549500</td>\n",
       "      <td>0.096067</td>\n",
       "      <td>0.159651</td>\n",
       "      <td>0.216225</td>\n",
       "      <td>1.000000</td>\n",
       "    </tr>\n",
       "  </tbody>\n",
       "</table>\n",
       "</div>"
      ],
      "text/plain": [
       "          Survived    Pclass       Age     SibSp     Parch      Fare\n",
       "Survived  1.000000 -0.338481 -0.077221 -0.035322  0.081629  0.257307\n",
       "Pclass   -0.338481  1.000000 -0.369226  0.083081  0.018443 -0.549500\n",
       "Age      -0.077221 -0.369226  1.000000 -0.308247 -0.189119  0.096067\n",
       "SibSp    -0.035322  0.083081 -0.308247  1.000000  0.414838  0.159651\n",
       "Parch     0.081629  0.018443 -0.189119  0.414838  1.000000  0.216225\n",
       "Fare      0.257307 -0.549500  0.096067  0.159651  0.216225  1.000000"
      ]
     },
     "execution_count": 10,
     "metadata": {},
     "output_type": "execute_result"
    },
    {
     "data": {
      "image/png": "[encoded data removed]",
      "text/plain": [
       "<Figure size 640x480 with 2 Axes>"
      ]
     },
     "metadata": {},
     "output_type": "display_data"
    }
   ],
   "source": [
    "numerical = [\"Survived\", \"Pclass\", \"Age\", \"SibSp\", \"Parch\", \"Fare\"]\n",
    "sns.heatmap(data = train_data[numerical].corr())\n",
    "train_data[numerical].corr()"
   ]
  },
  {
   "cell_type": "markdown",
   "id": "e59ed739",
   "metadata": {
    "papermill": {
     "duration": 0.00774,
     "end_time": "2024-12-30T16:30:30.940757",
     "exception": false,
     "start_time": "2024-12-30T16:30:30.933017",
     "status": "completed"
    },
    "tags": []
   },
   "source": [
    "# Feature Engineering:\n",
    "\n",
    "Let's think about what features we can improve and how:\n",
    "<li></li>"
   ]
  },
  {
   "cell_type": "markdown",
   "id": "0f9c66ed",
   "metadata": {
    "papermill": {
     "duration": 0.007004,
     "end_time": "2024-12-30T16:30:30.955136",
     "exception": false,
     "start_time": "2024-12-30T16:30:30.948132",
     "status": "completed"
    },
    "tags": []
   },
   "source": [
    "# Modelling:\n",
    "\n",
    "Now that we now what features correlate with the survival probability, we can start modelling."
   ]
  },
  {
   "cell_type": "code",
   "execution_count": 11,
   "id": "9e9f7169",
   "metadata": {
    "execution": {
     "iopub.execute_input": "2024-12-30T16:30:30.971564Z",
     "iopub.status.busy": "2024-12-30T16:30:30.971150Z",
     "iopub.status.idle": "2024-12-30T16:30:31.188181Z",
     "shell.execute_reply": "2024-12-30T16:30:31.186884Z"
    },
    "papermill": {
     "duration": 0.228451,
     "end_time": "2024-12-30T16:30:31.190881",
     "exception": false,
     "start_time": "2024-12-30T16:30:30.962430",
     "status": "completed"
    },
    "tags": []
   },
   "outputs": [],
   "source": [
    "# Random Forest Model:\n",
    "\n",
    "y = train_data[\"Survived\"]\n",
    "\n",
    "features = [\"Pclass\", \"Sex\", \"SibSp\", \"Parch\", \"Age_Lin\"]\n",
    "X = pd.get_dummies(train_data[features])\n",
    "X_test = pd.get_dummies(test_data[features])\n",
    "\n",
    "model = RandomForestClassifier(n_estimators = 100,\n",
    "                              max_depth = 10, \n",
    "                              random_state = 40)\n",
    "model.fit(X,y)\n",
    "train_predictions = model.predict(X)\n",
    "test_predictions = model.predict(X_test)"
   ]
  },
  {
   "cell_type": "code",
   "execution_count": 12,
   "id": "e9253219",
   "metadata": {
    "execution": {
     "iopub.execute_input": "2024-12-30T16:30:31.208464Z",
     "iopub.status.busy": "2024-12-30T16:30:31.207467Z",
     "iopub.status.idle": "2024-12-30T16:30:31.966344Z",
     "shell.execute_reply": "2024-12-30T16:30:31.965380Z"
    },
    "papermill": {
     "duration": 0.771528,
     "end_time": "2024-12-30T16:30:31.969865",
     "exception": false,
     "start_time": "2024-12-30T16:30:31.198337",
     "status": "completed"
    },
    "tags": []
   },
   "outputs": [],
   "source": [
    "# XGBoost Model:\n",
    "\n",
    "xg_y = train_data[\"Survived\"]\n",
    "\n",
    "xg_X = pd.get_dummies(train_data[features])\n",
    "xg_X_test = pd.get_dummies(test_data[features])\n",
    "\n",
    "xg_model = HistGradientBoostingClassifier(min_samples_leaf=10).fit(xg_X, xg_y)\n",
    "xg_model.fit(X,y)\n",
    "xg_train_predictions = xg_model.predict(X)\n",
    "xg_test_predictions = xg_model.predict(X_test)"
   ]
  },
  {
   "cell_type": "code",
   "execution_count": 13,
   "id": "408d0c83",
   "metadata": {
    "execution": {
     "iopub.execute_input": "2024-12-30T16:30:31.987481Z",
     "iopub.status.busy": "2024-12-30T16:30:31.986387Z",
     "iopub.status.idle": "2024-12-30T16:30:32.183026Z",
     "shell.execute_reply": "2024-12-30T16:30:32.181699Z"
    },
    "papermill": {
     "duration": 0.20917,
     "end_time": "2024-12-30T16:30:32.186626",
     "exception": false,
     "start_time": "2024-12-30T16:30:31.977456",
     "status": "completed"
    },
    "tags": []
   },
   "outputs": [
    {
     "data": {
      "text/plain": [
       "<sklearn.metrics._plot.confusion_matrix.ConfusionMatrixDisplay at 0x797a7ff62d90>"
      ]
     },
     "execution_count": 13,
     "metadata": {},
     "output_type": "execute_result"
    },
    {
     "data": {
      "image/png": "[encoded data removed]",
      "text/plain": [
       "<Figure size 640x480 with 2 Axes>"
      ]
     },
     "metadata": {},
     "output_type": "display_data"
    }
   ],
   "source": [
    "#Confusion Matrix Results - Random Forest Model\n",
    "cm = confusion_matrix(y, train_predictions)\n",
    "disp = ConfusionMatrixDisplay(cm)\n",
    "disp.plot()"
   ]
  },
  {
   "cell_type": "code",
   "execution_count": 14,
   "id": "606744c8",
   "metadata": {
    "execution": {
     "iopub.execute_input": "2024-12-30T16:30:32.205034Z",
     "iopub.status.busy": "2024-12-30T16:30:32.204165Z",
     "iopub.status.idle": "2024-12-30T16:30:32.439130Z",
     "shell.execute_reply": "2024-12-30T16:30:32.437890Z"
    },
    "papermill": {
     "duration": 0.247511,
     "end_time": "2024-12-30T16:30:32.442323",
     "exception": false,
     "start_time": "2024-12-30T16:30:32.194812",
     "status": "completed"
    },
    "tags": []
   },
   "outputs": [
    {
     "data": {
      "text/plain": [
       "<sklearn.metrics._plot.confusion_matrix.ConfusionMatrixDisplay at 0x797a7e5fc050>"
      ]
     },
     "execution_count": 14,
     "metadata": {},
     "output_type": "execute_result"
    },
    {
     "data": {
      "image/png": "[encoded data removed]",
      "text/plain": [
       "<Figure size 640x480 with 2 Axes>"
      ]
     },
     "metadata": {},
     "output_type": "display_data"
    }
   ],
   "source": [
    "#Confusion Matrix Results - XGBoost Model\n",
    "cm_xg = confusion_matrix(xg_y, xg_train_predictions)\n",
    "disp = ConfusionMatrixDisplay(cm_xg)\n",
    "disp.plot()"
   ]
  },
  {
   "cell_type": "code",
   "execution_count": 15,
   "id": "2bafcfd9",
   "metadata": {
    "execution": {
     "iopub.execute_input": "2024-12-30T16:30:32.461266Z",
     "iopub.status.busy": "2024-12-30T16:30:32.460896Z",
     "iopub.status.idle": "2024-12-30T16:30:32.477503Z",
     "shell.execute_reply": "2024-12-30T16:30:32.476213Z"
    },
    "papermill": {
     "duration": 0.029016,
     "end_time": "2024-12-30T16:30:32.480067",
     "exception": false,
     "start_time": "2024-12-30T16:30:32.451051",
     "status": "completed"
    },
    "tags": []
   },
   "outputs": [
    {
     "name": "stdout",
     "output_type": "stream",
     "text": [
      "--- Resuts Random Forest Model:\n",
      "              precision    recall  f1-score   support\n",
      "\n",
      "           0       0.91      0.96      0.94       549\n",
      "           1       0.94      0.85      0.89       342\n",
      "\n",
      "    accuracy                           0.92       891\n",
      "   macro avg       0.92      0.90      0.91       891\n",
      "weighted avg       0.92      0.92      0.92       891\n",
      "\n",
      "--- Resuts XGBoost Model:\n",
      "              precision    recall  f1-score   support\n",
      "\n",
      "           0       0.90      0.97      0.94       549\n",
      "           1       0.95      0.84      0.89       342\n",
      "\n",
      "    accuracy                           0.92       891\n",
      "   macro avg       0.93      0.90      0.91       891\n",
      "weighted avg       0.92      0.92      0.92       891\n",
      "\n"
     ]
    }
   ],
   "source": [
    "from sklearn.metrics import classification_report\n",
    "print('--- Resuts Random Forest Model:')\n",
    "print(classification_report(y, train_predictions))\n",
    "\n",
    "print('--- Resuts XGBoost Model:')\n",
    "print(classification_report(xg_y, xg_train_predictions))"
   ]
  },
  {
   "cell_type": "code",
   "execution_count": 16,
   "id": "23f1ebd2",
   "metadata": {
    "execution": {
     "iopub.execute_input": "2024-12-30T16:30:32.499097Z",
     "iopub.status.busy": "2024-12-30T16:30:32.498244Z",
     "iopub.status.idle": "2024-12-30T16:30:32.517034Z",
     "shell.execute_reply": "2024-12-30T16:30:32.515545Z"
    },
    "papermill": {
     "duration": 0.031201,
     "end_time": "2024-12-30T16:30:32.519661",
     "exception": false,
     "start_time": "2024-12-30T16:30:32.488460",
     "status": "completed"
    },
    "tags": []
   },
   "outputs": [
    {
     "name": "stdout",
     "output_type": "stream",
     "text": [
      "<class 'pandas.core.frame.DataFrame'>\n",
      "RangeIndex: 418 entries, 0 to 417\n",
      "Data columns (total 2 columns):\n",
      " #   Column       Non-Null Count  Dtype\n",
      "---  ------       --------------  -----\n",
      " 0   PassengerId  418 non-null    int64\n",
      " 1   Survived     418 non-null    int64\n",
      "dtypes: int64(2)\n",
      "memory usage: 6.7 KB\n",
      "Submission succesfully saved!\n"
     ]
    }
   ],
   "source": [
    "# output results\n",
    "output = pd.DataFrame({'PassengerId': test_data.PassengerId, 'Survived': xg_test_predictions})\n",
    "output.info()\n",
    "output.to_csv('submission.csv', index = False)\n",
    "print(\"Submission succesfully saved!\")"
   ]
  }
 ],
 "metadata": {
  "kaggle": {
   "accelerator": "none",
   "dataSources": [
    {
     "databundleVersionId": 26502,
     "sourceId": 3136,
     "sourceType": "competition"
    }
   ],
   "dockerImageVersionId": 30445,
   "isGpuEnabled": false,
   "isInternetEnabled": true,
   "language": "python",
   "sourceType": "notebook"
  },
  "kernelspec": {
   "display_name": "Python 3",
   "language": "python",
   "name": "python3"
  },
  "language_info": {
   "codemirror_mode": {
    "name": "ipython",
    "version": 3
   },
   "file_extension": ".py",
   "mimetype": "text/x-python",
   "name": "python",
   "nbconvert_exporter": "python",
   "pygments_lexer": "ipython3",
   "version": "3.7.12"
  },
  "papermill": {
   "default_parameters": {},
   "duration": 16.051089,
   "end_time": "2024-12-30T16:30:33.250588",
   "environment_variables": {},
   "exception": null,
   "input_path": "__notebook__.ipynb",
   "output_path": "__notebook__.ipynb",
   "parameters": {},
   "start_time": "2024-12-30T16:30:17.199499",
   "version": "2.4.0"
  }
 },
 "nbformat": 4,
 "nbformat_minor": 5
}
